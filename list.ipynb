{
 "cells": [
  {
   "cell_type": "code",
   "execution_count": 1,
   "id": "51d7306e-e71a-40c9-8e4c-279135463262",
   "metadata": {},
   "outputs": [
    {
     "name": "stdout",
     "output_type": "stream",
     "text": [
      "hello ---mr\n",
      "hello mr\n",
      "1.0\n",
      "HRITHIK \n",
      "(17+11j)\n",
      "True\n",
      "[1, 2, 3, 4, 5, 'Mr', 0.44, True]\n",
      "5\n",
      "[1, 2, 3, 4, 5, True, 0.44, 'Mr']\n"
     ]
    }
   ],
   "source": [
    "a=\"hello \"\n",
    "b=\"mr\"\n",
    "print(a,b,sep='---')\n",
    "print(a,end='')\n",
    "print(b)\n",
    "print(5/5)\n",
    "print(\"HRITHIK \")\n",
    "a=8+5j\n",
    "b=9+6j\n",
    "print(a+b)\n",
    "z=None\n",
    "w=True\n",
    "print(w)\n",
    "list1=[1,2,3,4,5,'Mr',0.44,True]\n",
    "print(list1)\n",
    "print(list1[4])\n",
    "l1=list1[:5]\n",
    "l2=list1[5:]\n",
    "l3=l1+l2[::-1]\n",
    "\n",
    "print(l3)\n",
    "\n"
   ]
  },
  {
   "cell_type": "code",
   "execution_count": 2,
   "id": "ec3ba8cd-389d-426d-a519-905ff069afe6",
   "metadata": {},
   "outputs": [
    {
     "data": {
      "text/plain": [
       "[1, 2, 3, 4, 5, 'Mr', 0.44, True, 'HRITHIK ']"
      ]
     },
     "execution_count": 2,
     "metadata": {},
     "output_type": "execute_result"
    }
   ],
   "source": [
    "list1.append(\"HRITHIK \")\n",
    "list1"
   ]
  },
  {
   "cell_type": "code",
   "execution_count": 3,
   "id": "5ff5a42c-5dc2-4d4d-ad1e-aabedf273ddc",
   "metadata": {},
   "outputs": [
    {
     "name": "stdout",
     "output_type": "stream",
     "text": [
      "[1, 2, 3, 4, 5, 'Mr', 0.44, True, 'HRITHIK ']\n"
     ]
    }
   ],
   "source": [
    "print(list1)"
   ]
  },
  {
   "cell_type": "code",
   "execution_count": 12,
   "id": "77620c21-b95c-4b08-87fa-254c3f3299ca",
   "metadata": {},
   "outputs": [],
   "source": [
    "list1.insert(2,\"ash\")"
   ]
  },
  {
   "cell_type": "code",
   "execution_count": 13,
   "id": "dd518800-6953-40f3-a73e-0ecc2ad55a93",
   "metadata": {},
   "outputs": [
    {
     "name": "stdout",
     "output_type": "stream",
     "text": [
      "[1, 2, 'ash', 'ash', 3, 4, 5, 'Mr', 0.44, True, 'HRITHIK ']\n"
     ]
    }
   ],
   "source": [
    "print(list1)"
   ]
  },
  {
   "cell_type": "code",
   "execution_count": 16,
   "id": "79eb77ed-45ff-43f2-9a4f-707efd9a57ff",
   "metadata": {},
   "outputs": [],
   "source": [
    "list1.extend([\"aash\",\"HRITHIK \"])"
   ]
  },
  {
   "cell_type": "code",
   "execution_count": 17,
   "id": "19f2d658-8f22-4764-a410-a214c06a2b9d",
   "metadata": {},
   "outputs": [
    {
     "name": "stdout",
     "output_type": "stream",
     "text": [
      "[1, 2, 'ash', 'ash', 3, 4, 5, 'Mr', 0.44, True, 'HRITHIK ', 'aash', 'HRITHIK ']\n"
     ]
    }
   ],
   "source": [
    "print(list1)"
   ]
  },
  {
   "cell_type": "code",
   "execution_count": 18,
   "id": "e0cd4d42-94eb-4a10-9b0c-5650eb89e924",
   "metadata": {},
   "outputs": [
    {
     "data": {
      "text/plain": [
       "[1, 2, 3, 4, 5, ['Mr', 0.44, True]]"
      ]
     },
     "execution_count": 18,
     "metadata": {},
     "output_type": "execute_result"
    }
   ],
   "source": [
    "l1.append(l2)\n",
    "l1"
   ]
  },
  {
   "cell_type": "code",
   "execution_count": 19,
   "id": "4d78e913-4239-4fa1-847a-43c0c2fed582",
   "metadata": {},
   "outputs": [
    {
     "data": {
      "text/plain": [
       "[1, 2, 3, 4, 5, ['Mr', 0.44, True], 'Mr', 0.44, True]"
      ]
     },
     "execution_count": 19,
     "metadata": {},
     "output_type": "execute_result"
    }
   ],
   "source": [
    "l1.extend(l2)\n",
    "l1"
   ]
  },
  {
   "cell_type": "code",
   "execution_count": 22,
   "id": "0938132a-e703-4b2d-a69f-e2adc7aa0025",
   "metadata": {},
   "outputs": [
    {
     "data": {
      "text/plain": [
       "[1, 2, ['Mr', 0.44, True], 3, 4, 5, ['Mr', 0.44, True], 'Mr', 0.44, True]"
      ]
     },
     "execution_count": 22,
     "metadata": {},
     "output_type": "execute_result"
    }
   ],
   "source": [
    "l1.insert(2,l2)\n",
    "l1"
   ]
  },
  {
   "cell_type": "code",
   "execution_count": 23,
   "id": "56bfdda7-197e-4c82-bcb8-a50cb57d5a4a",
   "metadata": {},
   "outputs": [],
   "source": [
    "l1.remove(\"Mr\")"
   ]
  },
  {
   "cell_type": "code",
   "execution_count": 24,
   "id": "889e1448-7b6b-4c2d-bd06-bac8984809ee",
   "metadata": {},
   "outputs": [
    {
     "name": "stdout",
     "output_type": "stream",
     "text": [
      "[1, 2, ['Mr', 0.44, True], 3, 4, 5, ['Mr', 0.44, True], 0.44, True]\n"
     ]
    }
   ],
   "source": [
    "print(l1)"
   ]
  },
  {
   "cell_type": "code",
   "execution_count": 25,
   "id": "daeb7b70-f6a5-4cf1-a617-5ff3f01daa0e",
   "metadata": {},
   "outputs": [
    {
     "ename": "ValueError",
     "evalue": "list.remove(x): x not in list",
     "output_type": "error",
     "traceback": [
      "\u001b[1;31m---------------------------------------------------------------------------\u001b[0m",
      "\u001b[1;31mValueError\u001b[0m                                Traceback (most recent call last)",
      "Cell \u001b[1;32mIn[25], line 1\u001b[0m\n\u001b[1;32m----> 1\u001b[0m l1\u001b[38;5;241m.\u001b[39mremove(\u001b[38;5;124m\"\u001b[39m\u001b[38;5;124mMr\u001b[39m\u001b[38;5;124m\"\u001b[39m)\n",
      "\u001b[1;31mValueError\u001b[0m: list.remove(x): x not in list"
     ]
    }
   ],
   "source": [
    "l1.remove(\"Mr\")"
   ]
  },
  {
   "cell_type": "code",
   "execution_count": 26,
   "id": "5a0717d9-3e9b-4b3b-8a1a-4331961006d2",
   "metadata": {},
   "outputs": [
    {
     "ename": "TypeError",
     "evalue": "'str' object cannot be interpreted as an integer",
     "output_type": "error",
     "traceback": [
      "\u001b[1;31m---------------------------------------------------------------------------\u001b[0m",
      "\u001b[1;31mTypeError\u001b[0m                                 Traceback (most recent call last)",
      "Cell \u001b[1;32mIn[26], line 1\u001b[0m\n\u001b[1;32m----> 1\u001b[0m l1\u001b[38;5;241m.\u001b[39mpop(\u001b[38;5;124m\"\u001b[39m\u001b[38;5;124mMr\u001b[39m\u001b[38;5;124m\"\u001b[39m)\n",
      "\u001b[1;31mTypeError\u001b[0m: 'str' object cannot be interpreted as an integer"
     ]
    }
   ],
   "source": [
    "l1.pop(\"Mr\")"
   ]
  },
  {
   "cell_type": "code",
   "execution_count": 27,
   "id": "d543821d-7d56-4f9f-9a98-e70cbb130a85",
   "metadata": {},
   "outputs": [
    {
     "data": {
      "text/plain": [
       "['Mr', 0.44, True]"
      ]
     },
     "execution_count": 27,
     "metadata": {},
     "output_type": "execute_result"
    }
   ],
   "source": [
    "l1.pop(2)"
   ]
  },
  {
   "cell_type": "code",
   "execution_count": 28,
   "id": "a2e3751a-2327-42b4-b4a5-58db2734f8dc",
   "metadata": {},
   "outputs": [
    {
     "data": {
      "text/plain": [
       "[1, 2, 3, 4, 5, ['Mr', 0.44, True], 0.44, True]"
      ]
     },
     "execution_count": 28,
     "metadata": {},
     "output_type": "execute_result"
    }
   ],
   "source": [
    "l1"
   ]
  },
  {
   "cell_type": "code",
   "execution_count": 29,
   "id": "6cff258c-91b2-4871-b7f2-0af7127e20a8",
   "metadata": {},
   "outputs": [
    {
     "data": {
      "text/plain": [
       "True"
      ]
     },
     "execution_count": 29,
     "metadata": {},
     "output_type": "execute_result"
    }
   ],
   "source": [
    "l1.pop()"
   ]
  },
  {
   "cell_type": "code",
   "execution_count": 30,
   "id": "00435168-7f78-44b8-9fc5-f8cc9f98c966",
   "metadata": {},
   "outputs": [
    {
     "data": {
      "text/plain": [
       "[1, 2, 3, 4, 5, ['Mr', 0.44, True], 0.44]"
      ]
     },
     "execution_count": 30,
     "metadata": {},
     "output_type": "execute_result"
    }
   ],
   "source": [
    "l1"
   ]
  },
  {
   "cell_type": "code",
   "execution_count": 31,
   "id": "a4f8ae8f-4f67-4af9-a883-7a1e72031118",
   "metadata": {},
   "outputs": [
    {
     "data": {
      "text/plain": [
       "[1, 2, 3, 4, 5, ['Mr', 0.44, True], 0.44]"
      ]
     },
     "execution_count": 31,
     "metadata": {},
     "output_type": "execute_result"
    }
   ],
   "source": [
    "l1"
   ]
  },
  {
   "cell_type": "code",
   "execution_count": 32,
   "id": "681cc52a-bc8b-4a17-9670-498d82693a65",
   "metadata": {},
   "outputs": [
    {
     "data": {
      "text/plain": [
       "0.44"
      ]
     },
     "execution_count": 32,
     "metadata": {},
     "output_type": "execute_result"
    }
   ],
   "source": [
    "l1.pop()"
   ]
  },
  {
   "cell_type": "code",
   "execution_count": 33,
   "id": "2d5f5ebc-5b1d-4b8c-b689-8818214edcca",
   "metadata": {},
   "outputs": [
    {
     "ename": "TypeError",
     "evalue": "list.remove() takes exactly one argument (0 given)",
     "output_type": "error",
     "traceback": [
      "\u001b[1;31m---------------------------------------------------------------------------\u001b[0m",
      "\u001b[1;31mTypeError\u001b[0m                                 Traceback (most recent call last)",
      "Cell \u001b[1;32mIn[33], line 1\u001b[0m\n\u001b[1;32m----> 1\u001b[0m l1\u001b[38;5;241m.\u001b[39mremove()\n",
      "\u001b[1;31mTypeError\u001b[0m: list.remove() takes exactly one argument (0 given)"
     ]
    }
   ],
   "source": [
    "l1.remove()"
   ]
  },
  {
   "cell_type": "code",
   "execution_count": 34,
   "id": "44009f4c-ad2b-4391-b788-2fa73493e6f3",
   "metadata": {},
   "outputs": [],
   "source": [
    "l1.remove(5)"
   ]
  },
  {
   "cell_type": "code",
   "execution_count": 35,
   "id": "cc452e9d-59a4-4779-a285-65f2b60ed459",
   "metadata": {},
   "outputs": [
    {
     "data": {
      "text/plain": [
       "[1, 2, 3, 4, ['Mr', 0.44, True]]"
      ]
     },
     "execution_count": 35,
     "metadata": {},
     "output_type": "execute_result"
    }
   ],
   "source": [
    "l1"
   ]
  },
  {
   "cell_type": "code",
   "execution_count": 36,
   "id": "d61559a5-ba23-429e-b2fe-5db45e64e186",
   "metadata": {},
   "outputs": [
    {
     "ename": "SyntaxError",
     "evalue": "invalid syntax (2531277183.py, line 1)",
     "output_type": "error",
     "traceback": [
      "\u001b[1;36m  Cell \u001b[1;32mIn[36], line 1\u001b[1;36m\u001b[0m\n\u001b[1;33m    l3.del()\u001b[0m\n\u001b[1;37m       ^\u001b[0m\n\u001b[1;31mSyntaxError\u001b[0m\u001b[1;31m:\u001b[0m invalid syntax\n"
     ]
    }
   ],
   "source": [
    "l3.del()"
   ]
  },
  {
   "cell_type": "code",
   "execution_count": 38,
   "id": "0da79987-84f4-4787-b441-aa725450b8f9",
   "metadata": {},
   "outputs": [],
   "source": [
    "del(l3)"
   ]
  },
  {
   "cell_type": "code",
   "execution_count": 39,
   "id": "573bccea-c037-483b-9f90-7a70d9a49a40",
   "metadata": {},
   "outputs": [
    {
     "ename": "NameError",
     "evalue": "name 'l3' is not defined",
     "output_type": "error",
     "traceback": [
      "\u001b[1;31m---------------------------------------------------------------------------\u001b[0m",
      "\u001b[1;31mNameError\u001b[0m                                 Traceback (most recent call last)",
      "Cell \u001b[1;32mIn[39], line 1\u001b[0m\n\u001b[1;32m----> 1\u001b[0m l3\n",
      "\u001b[1;31mNameError\u001b[0m: name 'l3' is not defined"
     ]
    }
   ],
   "source": [
    "l3"
   ]
  },
  {
   "cell_type": "code",
   "execution_count": 40,
   "id": "23882e81-deb3-457f-946b-d416000d0e7a",
   "metadata": {},
   "outputs": [
    {
     "name": "stdout",
     "output_type": "stream",
     "text": [
      "[1, 2, 3, 4, ['Mr', 0.44, True], 1, 2, 3, 4, ['Mr', 0.44, True]]\n"
     ]
    }
   ],
   "source": [
    "print(l1*2)"
   ]
  },
  {
   "cell_type": "code",
   "execution_count": 41,
   "id": "d5878949-e735-4313-a5da-cf4023648bb3",
   "metadata": {},
   "outputs": [
    {
     "name": "stdout",
     "output_type": "stream",
     "text": [
      "False\n"
     ]
    }
   ],
   "source": [
    "print(5 in l1)"
   ]
  },
  {
   "cell_type": "code",
   "execution_count": 42,
   "id": "0a6d2ab5-fb4c-47af-b934-da6b9d942e50",
   "metadata": {},
   "outputs": [
    {
     "name": "stdout",
     "output_type": "stream",
     "text": [
      "True\n"
     ]
    }
   ],
   "source": [
    "print(4 in l1)"
   ]
  },
  {
   "cell_type": "code",
   "execution_count": 44,
   "id": "3001226b-2187-4a3f-9d11-aefa8f75bc33",
   "metadata": {},
   "outputs": [
    {
     "name": "stdout",
     "output_type": "stream",
     "text": [
      "5\n"
     ]
    }
   ],
   "source": [
    "print(len(l1))"
   ]
  },
  {
   "cell_type": "code",
   "execution_count": 49,
   "id": "51c88a85-5f91-48e7-81aa-44b82f024006",
   "metadata": {},
   "outputs": [],
   "source": [
    "l4=[9,8,5,4,3,2,1]"
   ]
  },
  {
   "cell_type": "code",
   "execution_count": 46,
   "id": "e1291a6a-8033-4c49-b55e-990349cb68ed",
   "metadata": {},
   "outputs": [],
   "source": [
    "l4.sort()"
   ]
  },
  {
   "cell_type": "code",
   "execution_count": 47,
   "id": "eed91c7d-ea18-4c07-bee4-f24e1705df7b",
   "metadata": {},
   "outputs": [
    {
     "data": {
      "text/plain": [
       "[1, 2, 3, 4, ['Mr', 0.44, True]]"
      ]
     },
     "execution_count": 47,
     "metadata": {},
     "output_type": "execute_result"
    }
   ],
   "source": [
    "l1"
   ]
  },
  {
   "cell_type": "code",
   "execution_count": 48,
   "id": "4d59de01-fc83-4c66-9e2b-a4d0c4b0565a",
   "metadata": {},
   "outputs": [
    {
     "data": {
      "text/plain": [
       "[1, 2, 3, 4, 5, 8, 9]"
      ]
     },
     "execution_count": 48,
     "metadata": {},
     "output_type": "execute_result"
    }
   ],
   "source": [
    "l4"
   ]
  },
  {
   "cell_type": "code",
   "execution_count": 50,
   "id": "3bf7b993-ffab-4873-b339-6ca7adcc6b11",
   "metadata": {},
   "outputs": [
    {
     "data": {
      "text/plain": [
       "[1, 2, 3, 4, 5, 8, 9]"
      ]
     },
     "execution_count": 50,
     "metadata": {},
     "output_type": "execute_result"
    }
   ],
   "source": [
    "sorted(l4)"
   ]
  },
  {
   "cell_type": "code",
   "execution_count": 51,
   "id": "e3049fd5-489a-4fc6-92ca-c62f3a064230",
   "metadata": {},
   "outputs": [
    {
     "data": {
      "text/plain": [
       "[9, 8, 5, 4, 3, 2, 1]"
      ]
     },
     "execution_count": 51,
     "metadata": {},
     "output_type": "execute_result"
    }
   ],
   "source": [
    "l4"
   ]
  },
  {
   "cell_type": "code",
   "execution_count": 52,
   "id": "417b711e-3428-493f-a927-5920ef812cd4",
   "metadata": {},
   "outputs": [
    {
     "data": {
      "text/plain": [
       "[1, 2, 3, 4, 5, 8, 9]"
      ]
     },
     "execution_count": 52,
     "metadata": {},
     "output_type": "execute_result"
    }
   ],
   "source": [
    "sorted(l4)"
   ]
  },
  {
   "cell_type": "code",
   "execution_count": 53,
   "id": "b1b500d8-f840-47f3-b366-a45abc2be79e",
   "metadata": {},
   "outputs": [
    {
     "data": {
      "text/plain": [
       "[9, 8, 5, 4, 3, 2, 1]"
      ]
     },
     "execution_count": 53,
     "metadata": {},
     "output_type": "execute_result"
    }
   ],
   "source": [
    "l4"
   ]
  },
  {
   "cell_type": "code",
   "execution_count": 55,
   "id": "b61a1ab2-e899-4525-8b61-f786c25de3b2",
   "metadata": {},
   "outputs": [],
   "source": [
    "l4.sort()"
   ]
  },
  {
   "cell_type": "code",
   "execution_count": 56,
   "id": "8debd35d-9e5f-44ea-b7b1-530492928286",
   "metadata": {},
   "outputs": [
    {
     "data": {
      "text/plain": [
       "[1, 2, 3, 4, 5, 8, 9]"
      ]
     },
     "execution_count": 56,
     "metadata": {},
     "output_type": "execute_result"
    }
   ],
   "source": [
    "l4"
   ]
  },
  {
   "cell_type": "code",
   "execution_count": 57,
   "id": "c9407426-0a42-46a0-b8ab-0459fc9ee46e",
   "metadata": {},
   "outputs": [],
   "source": [
    "l4.reverse()"
   ]
  },
  {
   "cell_type": "code",
   "execution_count": 58,
   "id": "14039bed-f9f5-4089-9e51-2f69c9b0ae3e",
   "metadata": {},
   "outputs": [
    {
     "data": {
      "text/plain": [
       "[9, 8, 5, 4, 3, 2, 1]"
      ]
     },
     "execution_count": 58,
     "metadata": {},
     "output_type": "execute_result"
    }
   ],
   "source": [
    "l4"
   ]
  },
  {
   "cell_type": "code",
   "execution_count": 59,
   "id": "b8e749cf-3778-4cae-a8d9-33e0cd1ecf28",
   "metadata": {},
   "outputs": [
    {
     "data": {
      "text/plain": [
       "<list_reverseiterator at 0x2a03a31ebc0>"
      ]
     },
     "execution_count": 59,
     "metadata": {},
     "output_type": "execute_result"
    }
   ],
   "source": [
    "reversed(l4)"
   ]
  },
  {
   "cell_type": "code",
   "execution_count": 60,
   "id": "85f59cd0-def5-46b1-bc60-24fe4658aa4e",
   "metadata": {},
   "outputs": [
    {
     "name": "stdout",
     "output_type": "stream",
     "text": [
      "[9, 8, 5, 4, 3, 2, 1]\n"
     ]
    }
   ],
   "source": [
    "print(l4)"
   ]
  },
  {
   "cell_type": "code",
   "execution_count": 61,
   "id": "587a43a8-910e-4156-a26a-3d1b378eb6d9",
   "metadata": {},
   "outputs": [
    {
     "name": "stdout",
     "output_type": "stream",
     "text": [
      "<list_reverseiterator object at 0x000002A03A31F100>\n"
     ]
    }
   ],
   "source": [
    "print(reversed(l4))"
   ]
  },
  {
   "cell_type": "code",
   "execution_count": 65,
   "id": "8aabc165-a35f-47fd-873a-bea4ab95b456",
   "metadata": {},
   "outputs": [
    {
     "name": "stdout",
     "output_type": "stream",
     "text": [
      "[<list_reverseiterator object at 0x000002A03A31C220>]\n"
     ]
    }
   ],
   "source": [
    "print([reversed(l4)])"
   ]
  },
  {
   "cell_type": "code",
   "execution_count": 66,
   "id": "d67012f9-496b-4c0d-a4a0-9f4481c81d2a",
   "metadata": {},
   "outputs": [
    {
     "name": "stdout",
     "output_type": "stream",
     "text": [
      "[1, 2, 3, 4, 5, 8, 9]\n"
     ]
    }
   ],
   "source": [
    "print(list(reversed(l4)))"
   ]
  },
  {
   "cell_type": "code",
   "execution_count": 72,
   "id": "975d9899-83c5-4eb8-b8da-5b7ada7d160d",
   "metadata": {},
   "outputs": [],
   "source": [
    "l6=list()\n",
    "for i in l4 :\n",
    "    temp=i*i\n",
    "    l6.append(temp)\n",
    "    "
   ]
  },
  {
   "cell_type": "code",
   "execution_count": 73,
   "id": "db024430-135a-4460-8ab4-47d2349a3dda",
   "metadata": {},
   "outputs": [
    {
     "data": {
      "text/plain": [
       "[81, 64, 25, 16, 9, 4, 1]"
      ]
     },
     "execution_count": 73,
     "metadata": {},
     "output_type": "execute_result"
    }
   ],
   "source": [
    "l6"
   ]
  },
  {
   "cell_type": "code",
   "execution_count": 74,
   "id": "f89e83ac-764c-42d5-a4f7-29b37c922683",
   "metadata": {},
   "outputs": [],
   "source": [
    "l7=[i*i for i in l4]"
   ]
  },
  {
   "cell_type": "code",
   "execution_count": 75,
   "id": "fa6381bc-4d6a-4c10-9095-c800232d655e",
   "metadata": {},
   "outputs": [
    {
     "data": {
      "text/plain": [
       "[81, 64, 25, 16, 9, 4, 1]"
      ]
     },
     "execution_count": 75,
     "metadata": {},
     "output_type": "execute_result"
    }
   ],
   "source": [
    "l7"
   ]
  },
  {
   "cell_type": "code",
   "execution_count": 76,
   "id": "d2e3fc5e-bd80-4ac8-8ed7-c41d99bfe934",
   "metadata": {},
   "outputs": [],
   "source": [
    "l8=l7"
   ]
  },
  {
   "cell_type": "code",
   "execution_count": 77,
   "id": "0fcec01e-8b4f-4b94-b898-17aa3a0d750f",
   "metadata": {},
   "outputs": [
    {
     "data": {
      "text/plain": [
       "[81, 64, 25, 16, 9, 4, 1]"
      ]
     },
     "execution_count": 77,
     "metadata": {},
     "output_type": "execute_result"
    }
   ],
   "source": [
    "l8"
   ]
  },
  {
   "cell_type": "code",
   "execution_count": 78,
   "id": "266b21d7-ead1-40c8-8697-f9830b173925",
   "metadata": {},
   "outputs": [],
   "source": [
    "l8[1]=76"
   ]
  },
  {
   "cell_type": "code",
   "execution_count": 79,
   "id": "8ee1997f-f612-425a-856e-bd35b6336efe",
   "metadata": {},
   "outputs": [
    {
     "data": {
      "text/plain": [
       "[81, 76, 25, 16, 9, 4, 1]"
      ]
     },
     "execution_count": 79,
     "metadata": {},
     "output_type": "execute_result"
    }
   ],
   "source": [
    "l8"
   ]
  },
  {
   "cell_type": "code",
   "execution_count": 80,
   "id": "30f03fac-dbed-4fdd-a29c-f8d1cafed2cd",
   "metadata": {},
   "outputs": [
    {
     "data": {
      "text/plain": [
       "[81, 76, 25, 16, 9, 4, 1]"
      ]
     },
     "execution_count": 80,
     "metadata": {},
     "output_type": "execute_result"
    }
   ],
   "source": [
    "l7"
   ]
  },
  {
   "cell_type": "code",
   "execution_count": 81,
   "id": "4f667dd1-cc7a-4d43-807e-d6adf8006f80",
   "metadata": {},
   "outputs": [],
   "source": [
    "import copy "
   ]
  },
  {
   "cell_type": "code",
   "execution_count": 82,
   "id": "cf35d76c-59ed-4820-8e93-879a995ef31b",
   "metadata": {},
   "outputs": [],
   "source": [
    "l9=copy.deepcopy(l7)"
   ]
  },
  {
   "cell_type": "code",
   "execution_count": 83,
   "id": "96fd78b7-a034-4ba8-9a99-3ce569823042",
   "metadata": {},
   "outputs": [
    {
     "data": {
      "text/plain": [
       "[81, 76, 25, 16, 9, 4, 1]"
      ]
     },
     "execution_count": 83,
     "metadata": {},
     "output_type": "execute_result"
    }
   ],
   "source": [
    "l9"
   ]
  },
  {
   "cell_type": "code",
   "execution_count": 84,
   "id": "fabfda2d-fba7-40de-81b1-8766b0e800f4",
   "metadata": {},
   "outputs": [],
   "source": [
    "l9[3]=28"
   ]
  },
  {
   "cell_type": "code",
   "execution_count": 85,
   "id": "0ee281d9-2a22-461f-a1cc-bac9c026e12a",
   "metadata": {},
   "outputs": [
    {
     "data": {
      "text/plain": [
       "[81, 76, 25, 28, 9, 4, 1]"
      ]
     },
     "execution_count": 85,
     "metadata": {},
     "output_type": "execute_result"
    }
   ],
   "source": [
    "l9"
   ]
  },
  {
   "cell_type": "code",
   "execution_count": 86,
   "id": "a9922a71-26da-415c-85e3-b32dc0d5da11",
   "metadata": {},
   "outputs": [
    {
     "data": {
      "text/plain": [
       "[81, 76, 25, 16, 9, 4, 1]"
      ]
     },
     "execution_count": 86,
     "metadata": {},
     "output_type": "execute_result"
    }
   ],
   "source": [
    "l7"
   ]
  },
  {
   "cell_type": "code",
   "execution_count": 87,
   "id": "0da26866-e170-44fc-b20b-48f59e62c277",
   "metadata": {},
   "outputs": [
    {
     "data": {
      "text/plain": [
       "1"
      ]
     },
     "execution_count": 87,
     "metadata": {},
     "output_type": "execute_result"
    }
   ],
   "source": [
    "l9.index(76)"
   ]
  },
  {
   "cell_type": "code",
   "execution_count": 88,
   "id": "adaa25a4-a0a9-4ab8-90bb-d10c914ed913",
   "metadata": {},
   "outputs": [],
   "source": [
    "l9[3]=25"
   ]
  },
  {
   "cell_type": "code",
   "execution_count": 89,
   "id": "08544699-9c96-4381-88b3-397dc7170aed",
   "metadata": {},
   "outputs": [
    {
     "data": {
      "text/plain": [
       "2"
      ]
     },
     "execution_count": 89,
     "metadata": {},
     "output_type": "execute_result"
    }
   ],
   "source": [
    "l9.count(25)"
   ]
  },
  {
   "cell_type": "code",
   "execution_count": 90,
   "id": "6c14b553-4b19-402c-a6fa-35fc804e8cdd",
   "metadata": {},
   "outputs": [
    {
     "name": "stdout",
     "output_type": "stream",
     "text": [
      "0 81\n",
      "1 76\n",
      "2 25\n",
      "3 25\n",
      "4 9\n",
      "5 4\n",
      "6 1\n"
     ]
    }
   ],
   "source": [
    "for index ,value in enumerate(l9):\n",
    "    print(index,value)"
   ]
  },
  {
   "cell_type": "code",
   "execution_count": null,
   "id": "0960d822-0fee-45d3-a2e8-2dbf1fc4c7b4",
   "metadata": {},
   "outputs": [],
   "source": []
  }
 ],
 "metadata": {
  "kernelspec": {
   "display_name": "Python 3 (ipykernel)",
   "language": "python",
   "name": "python3"
  },
  "language_info": {
   "codemirror_mode": {
    "name": "ipython",
    "version": 3
   },
   "file_extension": ".py",
   "mimetype": "text/x-python",
   "name": "python",
   "nbconvert_exporter": "python",
   "pygments_lexer": "ipython3",
   "version": "3.12.4"
  }
 },
 "nbformat": 4,
 "nbformat_minor": 5
}
